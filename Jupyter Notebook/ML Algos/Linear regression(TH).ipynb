{
 "cells": [
  {
   "cell_type": "markdown",
   "metadata": {},
   "source": [
    "<b><h1>Linear Regression & Gradient Descent"
   ]
  },
  {
   "cell_type": "code",
   "execution_count": 1,
   "metadata": {},
   "outputs": [],
   "source": [
    "%config IPCompleter.greedy = True\n",
    "import numpy as np\n",
    "data = np.genfromtxt('data.csv', delimiter=',')"
   ]
  },
  {
   "cell_type": "code",
   "execution_count": 4,
   "metadata": {},
   "outputs": [
    {
     "data": {
      "text/plain": [
       "<matplotlib.collections.PathCollection at 0x2cb2bc575f8>"
      ]
     },
     "execution_count": 4,
     "metadata": {},
     "output_type": "execute_result"
    },
    {
     "data": {
      "image/png": "[encoded data removed]",
      "text/plain": [
       "<Figure size 432x288 with 1 Axes>"
      ]
     },
     "metadata": {},
     "output_type": "display_data"
    }
   ],
   "source": [
    "import matplotlib.pyplot as plt\n",
    "x = data[:,0]\n",
    "y = data[:,1]\n",
    "plt.scatter(x,y)"
   ]
  },
  {
   "cell_type": "code",
   "execution_count": 5,
   "metadata": {},
   "outputs": [],
   "source": [
    "# theta_mse = (x^T * x)^-1 * x^T * y\n",
    "x_b = np.c_[np.ones((100,1)),x]\n",
    "theta_mse = np.linalg.inv(x_b.T.dot(x_b)).dot(x_b.T).dot(y) #สูตรดั้งเดิม"
   ]
  },
  {
   "cell_type": "code",
   "execution_count": 6,
   "metadata": {},
   "outputs": [
    {
     "data": {
      "text/plain": [
       "array([[ 1.        , 32.50234527],\n",
       "       [ 1.        , 53.42680403],\n",
       "       [ 1.        , 61.53035803],\n",
       "       [ 1.        , 47.47563963],\n",
       "       [ 1.        , 59.81320787]])"
      ]
     },
     "execution_count": 6,
     "metadata": {},
     "output_type": "execute_result"
    }
   ],
   "source": [
    "x_b[0:5] #สูตร inverse คือ ==== > [มุม1 + ค่าที่จะทำนาย * มุม2]"
   ]
  },
  {
   "cell_type": "code",
   "execution_count": 7,
   "metadata": {},
   "outputs": [
    {
     "data": {
      "text/plain": [
       "array([7.99102098, 1.32243102])"
      ]
     },
     "execution_count": 7,
     "metadata": {},
     "output_type": "execute_result"
    }
   ],
   "source": [
    "theta_mse #หามุม"
   ]
  },
  {
   "cell_type": "code",
   "execution_count": 9,
   "metadata": {},
   "outputs": [
    {
     "data": {
      "text/plain": [
       "array([ 21.21533121,  22.53776223,  23.86019326,  25.18262428,\n",
       "        26.5050553 ,  27.82748632,  29.14991735,  30.47234837,\n",
       "        31.79477939,  33.11721041,  34.43964144,  35.76207246,\n",
       "        37.08450348,  38.40693451,  39.72936553,  41.05179655,\n",
       "        42.37422757,  43.6966586 ,  45.01908962,  46.34152064,\n",
       "        47.66395166,  48.98638269,  50.30881371,  51.63124473,\n",
       "        52.95367576,  54.27610678,  55.5985378 ,  56.92096882,\n",
       "        58.24339985,  59.56583087,  60.88826189,  62.21069292,\n",
       "        63.53312394,  64.85555496,  66.17798598,  67.50041701,\n",
       "        68.82284803,  70.14527905,  71.46771007,  72.7901411 ,\n",
       "        74.11257212,  75.43500314,  76.75743417,  78.07986519,\n",
       "        79.40229621,  80.72472723,  82.04715826,  83.36958928,\n",
       "        84.6920203 ,  86.01445132,  87.33688235,  88.65931337,\n",
       "        89.98174439,  91.30417542,  92.62660644,  93.94903746,\n",
       "        95.27146848,  96.59389951,  97.91633053,  99.23876155,\n",
       "       100.56119258, 101.8836236 , 103.20605462, 104.52848564,\n",
       "       105.85091667, 107.17334769, 108.49577871, 109.81820973,\n",
       "       111.14064076, 112.46307178])"
      ]
     },
     "execution_count": 9,
     "metadata": {},
     "output_type": "execute_result"
    }
   ],
   "source": [
    "x_test = np.arange(10,80).reshape((-1,1)) #model tranning = y = มุมทั้งหมด dot กับ (ค่าที่จะพอร์ตกราฟ)\n",
    "x_testb = np.c_[np.ones((len(x_test),1)),x_test]\n",
    "y_test = x_testb.dot(theta_mse) #หา y เมื่อ x เท่ากับ ......\n",
    "#x_testb   Omse (องศา)\n",
    "# [1 10]     [7.99 1.322] เมื่อ x เป็น 10 จะเป็นเท่าไร ?? [7.9+10*1.3] ก็จะได้ตำแหน่ง y ที่ค่า x เป็น 10\n",
    "# [1 11]                        ================>[7.9+11*1.3]\n",
    "# [1 12]                       ================>[7.9+12*1.3] ทำเรื่อยๆจนค่าสุดท้าย\n",
    "y_test"
   ]
  },
  {
   "cell_type": "code",
   "execution_count": 10,
   "metadata": {},
   "outputs": [
    {
     "data": {
      "text/plain": [
       "<matplotlib.collections.PathCollection at 0x2cb2c1197b8>"
      ]
     },
     "execution_count": 10,
     "metadata": {},
     "output_type": "execute_result"
    },
    {
     "data": {
      "image/png": "[encoded data removed]",
      "text/plain": [
       "<Figure size 432x288 with 1 Axes>"
      ]
     },
     "metadata": {},
     "output_type": "display_data"
    }
   ],
   "source": [
    "plt.plot(x_test,y_test,\"r-\")\n",
    "plt.scatter(x,y)"
   ]
  },
  {
   "cell_type": "markdown",
   "metadata": {},
   "source": [
    "<h1> การบ้าน !!"
   ]
  },
  {
   "cell_type": "code",
   "execution_count": 11,
   "metadata": {},
   "outputs": [],
   "source": [
    "from sklearn.linear_model import LinearRegression"
   ]
  },
  {
   "cell_type": "code",
   "execution_count": 12,
   "metadata": {},
   "outputs": [],
   "source": [
    "x_re = x.reshape((-1,1))\n",
    "y_re = y.reshape((-1,1))"
   ]
  },
  {
   "cell_type": "code",
   "execution_count": 13,
   "metadata": {},
   "outputs": [
    {
     "data": {
      "text/plain": [
       "(array([7.99102098]), array([[1.32243102]]))"
      ]
     },
     "execution_count": 13,
     "metadata": {},
     "output_type": "execute_result"
    }
   ],
   "source": [
    "lin_reg = LinearRegression()\n",
    "lin_reg.fit(x_re, y_re)\n",
    "lin_reg.intercept_, lin_reg.coef_"
   ]
  },
  {
   "cell_type": "code",
   "execution_count": 14,
   "metadata": {},
   "outputs": [],
   "source": [
    "x_test = np.arange(10,80).reshape((-1,1)) "
   ]
  },
  {
   "cell_type": "code",
   "execution_count": 15,
   "metadata": {},
   "outputs": [
    {
     "data": {
      "text/plain": [
       "<matplotlib.collections.PathCollection at 0x2cb2d1595c0>"
      ]
     },
     "execution_count": 15,
     "metadata": {},
     "output_type": "execute_result"
    },
    {
     "data": {
      "image/png": "[encoded data removed]",
      "text/plain": [
       "<Figure size 432x288 with 1 Axes>"
      ]
     },
     "metadata": {},
     "output_type": "display_data"
    }
   ],
   "source": [
    "y_pre = lin_reg.predict(x_test)\n",
    "plt.plot(x_test,y_pre,\"r-\")\n",
    "plt.scatter(x,y)"
   ]
  },
  {
   "cell_type": "markdown",
   "metadata": {},
   "source": [
    "<h1> ทดสอบทำการ Predict เมื่อ x เป็นค่าใดค่าหนึ่ง"
   ]
  },
  {
   "cell_type": "code",
   "execution_count": 16,
   "metadata": {},
   "outputs": [],
   "source": [
    "y_pre = lin_reg.predict(45)"
   ]
  },
  {
   "cell_type": "code",
   "execution_count": 17,
   "metadata": {},
   "outputs": [
    {
     "data": {
      "text/plain": [
       "array([[67.50041701]])"
      ]
     },
     "execution_count": 17,
     "metadata": {},
     "output_type": "execute_result"
    }
   ],
   "source": [
    "y_pre"
   ]
  },
  {
   "cell_type": "code",
   "execution_count": 18,
   "metadata": {},
   "outputs": [
    {
     "data": {
      "text/plain": [
       "<matplotlib.collections.PathCollection at 0x2cb2d0fe400>"
      ]
     },
     "execution_count": 18,
     "metadata": {},
     "output_type": "execute_result"
    },
    {
     "data": {
      "image/png": "[encoded data removed]",
      "text/plain": [
       "<Figure size 432x288 with 1 Axes>"
      ]
     },
     "metadata": {},
     "output_type": "display_data"
    }
   ],
   "source": [
    "plt.scatter(45,y_pre,color='red')\n",
    "plt.scatter(x,y)"
   ]
  },
  {
   "cell_type": "code",
   "execution_count": null,
   "metadata": {},
   "outputs": [],
   "source": []
  }
 ],
 "metadata": {
  "kernelspec": {
   "display_name": "Python 3",
   "language": "python",
   "name": "python3"
  },
  "language_info": {
   "codemirror_mode": {
    "name": "ipython",
    "version": 3
   },
   "file_extension": ".py",
   "mimetype": "text/x-python",
   "name": "python",
   "nbconvert_exporter": "python",
   "pygments_lexer": "ipython3",
   "version": "3.6.5"
  }
 },
 "nbformat": 4,
 "nbformat_minor": 2
}
